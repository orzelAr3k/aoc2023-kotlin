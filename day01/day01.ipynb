{
 "cells": [
  {
   "cell_type": "code",
   "execution_count": null,
   "metadata": {
    "collapsed": true
   },
   "outputs": [],
   "source": [
    "import java.io.File\n",
    "\n",
    "val input = File(\"input.txt\").readLines()\n",
    "input"
   ]
  },
  {
   "cell_type": "markdown",
   "source": [
    "## Part1\n",
    "---"
   ],
   "metadata": {
    "collapsed": false
   }
  },
  {
   "cell_type": "code",
   "outputs": [],
   "source": [
    "fun calibrationValue(row: String): Int =\n",
    "    (row.find { it.isDigit() }.toString() + row.findLast { it.isDigit() }.toString()).toInt()\n",
    "\n",
    "val part1 = input.sumOf {\n",
    "    calibrationValue(it)\n",
    "}\n",
    "part1"
   ],
   "metadata": {
    "collapsed": false
   },
   "execution_count": null
  },
  {
   "cell_type": "markdown",
   "source": [
    "## Part2\n",
    "---"
   ],
   "metadata": {
    "collapsed": false
   }
  },
  {
   "cell_type": "code",
   "outputs": [],
   "source": [
    "val numbers = mapOf(\n",
    "    \"one\" to 1,\n",
    "    \"two\" to 2,\n",
    "    \"three\" to 3,\n",
    "    \"four\" to 4,\n",
    "    \"five\" to 5,\n",
    "    \"six\" to 6,\n",
    "    \"seven\" to 7,\n",
    "    \"eight\" to 8,\n",
    "    \"nine\" to 9\n",
    ")\n",
    "\n",
    "// extends prototype of String\n",
    "fun String.possibleWord(startingAt: Int): List<String> =\n",
    "    (3..5).map { len -> substring(startingAt, (startingAt + len).coerceAtMost(length)) }\n",
    "\n",
    "val part2 = input.sumOf {\n",
    "    calibrationValue(\n",
    "        it.mapIndexedNotNull { index, c ->\n",
    "            if (c.isDigit()) c\n",
    "            else it.possibleWord(index).firstNotNullOfOrNull { str ->\n",
    "                numbers[str]\n",
    "            }\n",
    "        }.joinToString()\n",
    "    )\n",
    "\n",
    "}\n",
    "part2"
   ],
   "metadata": {
    "collapsed": false
   },
   "execution_count": null
  }
 ],
 "metadata": {
  "kernelspec": {
   "display_name": "Kotlin",
   "language": "kotlin",
   "name": "kotlin"
  },
  "language_info": {
   "name": "kotlin",
   "version": "1.9.0",
   "mimetype": "text/x-kotlin",
   "file_extension": ".kt",
   "pygments_lexer": "kotlin",
   "codemirror_mode": "text/x-kotlin",
   "nbconvert_exporter": ""
  }
 },
 "nbformat": 4,
 "nbformat_minor": 0
}
