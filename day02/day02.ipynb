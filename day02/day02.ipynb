{
 "cells": [
  {
   "cell_type": "code",
   "execution_count": 36,
   "metadata": {
    "collapsed": true,
    "ExecuteTime": {
     "end_time": "2024-01-15T10:34:25.231872400Z",
     "start_time": "2024-01-15T10:34:25.158875100Z"
    }
   },
   "outputs": [
    {
     "data": {
      "text/plain": "[Game 1: 10 green, 9 blue, 1 red; 1 red, 7 green; 11 green, 6 blue; 8 blue, 12 green, Game 2: 11 red, 7 green, 3 blue; 1 blue, 8 green, 5 red; 2 red, 12 green, 1 blue; 10 green, 5 blue, 7 red, Game 3: 2 red, 7 green, 1 blue; 1 blue, 8 red; 7 green, 19 red, 5 blue; 1 blue, 10 green, 18 red; 10 red, 6 blue, 4 green, Game 4: 2 blue, 5 green, 2 red; 7 red, 3 green; 3 blue, 2 red; 16 green, 2 blue, Game 5: 1 blue, 9 red; 5 blue, 9 green, 6 red; 8 red, 10 blue, 3 green; 3 red, 13 green, 4 blue; 5 green, 9 red, 6 blue; 4 green, 8 red, 7 blue, Game 6: 1 red, 2 green; 2 red, 1 blue; 5 red, 10 green, 2 blue; 1 blue, 2 green, 3 red; 1 red, 6 green, Game 7: 9 blue, 14 green, 5 red; 10 green, 8 blue, 2 red; 20 green, 1 red; 4 blue, 17 green, 4 red, Game 8: 16 blue, 16 green, 8 red; 16 blue, 6 red, 10 green; 13 blue, 8 green, 16 red; 10 red, 13 green, 13 blue, Game 9: 8 blue, 10 green, 4 red; 18 green, 14 blue, 12 red; 4 green, 10 blue, 17 red; 16 red, 6 blue, 5 green; 11 red, 9 blue; 16 green, 13 red, 7 blue, Game 10: 5 green, 2 red, 13 blue; 3 red, 2 green, 17 blue; 3 green, 12 blue, 15 red; 7 blue, 14 red; 3 red, 4 green, 17 blue, Game 11: 8 green, 10 blue, 15 red; 11 blue, 4 green, 3 red; 10 blue, 4 green, 5 red; 7 blue, 1 green, 4 red; 2 red, 9 blue; 18 red, 8 green, 2 blue, Game 12: 16 red, 10 green; 12 red, 8 blue, 3 green; 8 red, 10 green, 7 blue; 10 green, 12 red, Game 13: 5 green, 2 red; 13 blue, 4 green, 4 red; 8 blue, 4 green, Game 14: 9 green, 3 red, 1 blue; 1 blue, 3 red, 1 green; 6 green; 3 green, 5 red; 1 blue, 4 red, Game 15: 13 red, 2 blue, 7 green; 6 green, 4 red, 7 blue; 8 blue, 11 red, 4 green; 1 green, 7 blue, 10 red; 3 blue, 9 green, 6 red; 6 green, 11 red, 1 blue, Game 16: 1 red, 14 green; 4 green, 1 blue, 4 red; 3 red, 1 blue, 5 green; 5 red, 1 blue, 14 green; 1 blue, 1 red, 12 green; 6 red, 14 green, 1 blue, Game 17: 14 green, 14 red; 19 green, 3 blue, 10 red; 4 green, 10 red, 1 blue, Game 18: 9 green, 1 blue, 12 red; 1 green, 10 red; 1 blue, 3 red, Game 19: 6 blue, 3 red, 3 green; 12 blue; 11 red, 14 blue, 3 green; 14 blue, 13 red, 1 green; 5 blue, 9 red, Game 20: 10 blue, 11 green, 3 red; 2 red, 16 green; 6 blue, 16 green, 4 red; 14 green, 7 red, 1 blue; 5 red, 9 blue, 11 green, Game 21: 1 red; 4 red; 2 red, 2 green, 1 blue, Game 22: 11 green, 3 blue, 3 red; 12 blue, 6 green; 1 red, 5 blue, 1 green; 9 blue, 6 green; 10 green, 1 red, 8 blue, Game 23: 13 blue, 3 green; 3 red, 5 green, 6 blue; 2 red, 11 green, 9 blue, Game 24: 1 blue, 1 green; 1 blue; 1 red, Game 25: 7 red, 1 green, 14 blue; 17 blue, 4 red, 6 green; 7 blue, 5 red; 2 red, 6 green, 20 blue, Game 26: 10 green, 8 red, 11 blue; 13 green, 2 blue, 4 red; 1 blue, 6 green, 9 red, Game 27: 9 green, 1 blue, 6 red; 7 red, 14 green; 13 green, 2 red; 2 red, 13 green; 2 green, 7 red, Game 28: 10 red, 6 green; 7 green, 11 red, 1 blue; 8 red, 5 green; 10 green, 13 red; 17 red, 3 green, Game 29: 4 blue, 3 red, 13 green; 9 green, 2 red, 1 blue; 11 green, 5 blue, 2 red; 1 blue, 7 green, 2 red; 4 blue, 1 red, 12 green, Game 30: 6 blue, 1 green, 3 red; 1 green, 3 red, 1 blue; 6 green, 2 red, 2 blue, Game 31: 11 red; 5 red, 2 green; 3 green, 6 red, 1 blue; 1 green, 18 red; 2 green, 14 red, Game 32: 11 blue, 12 green, 11 red; 5 red, 14 blue, 5 green; 5 blue, 7 green, 18 red, Game 33: 8 blue, 4 green, 11 red; 14 blue, 11 red, 3 green; 3 green, 1 blue; 17 red, 2 green, 9 blue; 7 green, 7 blue, 3 red; 2 green, 3 red, 7 blue, Game 34: 1 blue, 17 green; 2 blue, 1 red, 10 green; 10 green, 1 red; 6 green, 1 red, 1 blue; 2 green, 2 blue, 1 red, Game 35: 1 blue, 5 red, 5 green; 4 blue, 3 green, 8 red; 5 green, 14 blue; 5 green, 4 blue, 14 red, Game 36: 13 green, 7 red, 2 blue; 2 red, 2 green; 1 red, 12 green; 7 green, 8 red, Game 37: 11 red, 4 green, 1 blue; 12 red, 3 green, 5 blue; 1 blue, 12 red, 1 green; 9 red, 10 green; 7 red, 2 blue, 5 green; 7 green, 1 red, 4 blue, Game 38: 14 red, 20 blue, 6 green; 14 red, 12 green, 13 blue; 10 green, 10 red, 9 blue; 9 green, 9 blue, 15 red, Game 39: 4 blue; 8 green, 7 blue; 12 green, 2 blue, 5 red; 2 blue, 3 green, 3 red; 5 red, 1 green, 1 blue; 6 red, 1 blue, Game 40: 7 green, 10 red, 3 blue; 2 blue, 1 red, 7 green; 2 red, 5 blue, 11 green; 4 blue, 12 red, 6 green; 13 green, 7 blue, 9 red; 14 blue, 7 green, 8 red, Game 41: 14 red, 17 blue, 3 green; 18 blue, 4 green, 17 red; 2 green, 17 red, 8 blue; 7 green, 13 blue, 6 red, Game 42: 1 blue, 16 green; 14 green; 17 blue, 4 green, 7 red; 6 red, 7 blue, 8 green, Game 43: 8 red, 15 blue; 8 red, 1 green, 11 blue; 17 blue, 3 red, Game 44: 10 red, 2 green, 11 blue; 8 green, 4 blue, 6 red; 6 green, 2 blue, 10 red; 1 blue, 12 red, 7 green, Game 45: 1 blue, 4 red, 4 green; 2 red, 5 green; 3 green, 6 blue, 1 red; 12 blue, 1 red, 2 green, Game 46: 2 blue; 1 red, 4 blue; 2 blue, 15 red; 3 blue, 4 green, 5 red; 4 green, 13 red; 1 blue, 3 green, 9 red, Game 47: 13 blue, 2 green, 2 red; 2 green, 12 blue, 3 red; 2 green, 1 blue, Game 48: 1 blue, 4 green, 11 red; 2 blue, 5 red, 8 green; 6 red, Game 49: 1 red, 10 green; 3 green, 8 blue, 5 red; 7 red, 5 green, 7 blue, Game 50: 12 blue, 5 green, 1 red; 7 blue, 2 red; 12 blue, 3 green; 16 blue; 1 blue, 3 green; 2 red, 14 blue, 11 green, Game 51: 6 blue, 15 red, 1 green; 15 red, 2 blue, 1 green; 12 red, 2 green, Game 52: 5 green, 11 blue, 5 red; 18 green, 4 red, 10 blue; 14 green, 8 blue, 8 red; 2 red, 9 green, 11 blue; 9 blue, 5 red, 10 green, Game 53: 1 red, 1 green; 2 green, 1 red, 2 blue; 2 green, 1 blue, Game 54: 4 blue, 3 red, 7 green; 4 blue, 13 green; 1 red, 2 green, 7 blue; 5 blue, 5 red, 17 green, Game 55: 8 red, 11 green, 11 blue; 1 green, 15 blue, 6 red; 7 red, 8 blue, 11 green; 2 green, 1 red, 11 blue; 11 blue, 3 red; 3 red, 7 blue, 10 green, Game 56: 13 blue, 3 green; 1 red, 1 green, 7 blue; 17 blue, 2 red; 3 blue, 4 green, 4 red, Game 57: 9 green, 11 blue, 12 red; 13 red, 6 green, 1 blue; 4 blue, 1 green, 14 red; 11 red, 6 blue, 3 green, Game 58: 7 green, 2 blue, 6 red; 1 red, 4 green; 1 blue, 8 green, 10 red, Game 59: 3 green, 11 red, 3 blue; 1 blue, 5 red, 8 green; 10 green, 9 red; 5 green, 5 red, 1 blue; 4 green, 8 blue; 13 green, Game 60: 2 blue, 11 green, 7 red; 5 red, 9 green, 2 blue; 3 blue, 2 red, 8 green; 6 red, 2 blue, 9 green; 5 red, 4 green, 2 blue; 6 red, 5 blue, 11 green, Game 61: 7 blue, 5 green, 8 red; 12 blue, 1 red, 11 green; 15 blue, 14 red, 15 green; 14 red, 7 blue, 6 green; 9 blue; 3 green, 10 blue, 11 red, Game 62: 8 red, 1 blue, 1 green; 2 red, 1 blue, 8 green; 11 blue, 15 red, 4 green; 1 red, 5 green, 2 blue; 15 green, 11 blue, 12 red, Game 63: 6 red, 3 green, 7 blue; 8 red, 2 green; 4 green, 3 red, 4 blue; 6 blue, 3 red, 10 green; 4 blue, 6 red, 9 green; 8 blue, 10 green, 5 red, Game 64: 1 blue, 9 red, 1 green; 17 red, 3 blue; 8 red, 2 green; 12 red, 8 blue, Game 65: 15 blue, 2 red; 1 green, 14 blue; 10 green, 1 red, 10 blue; 10 green, 1 red, 12 blue; 13 blue, 1 green, Game 66: 18 green, 3 red, 7 blue; 19 blue, 2 red; 5 red, 8 blue, 11 green; 1 red, 15 blue, 12 green; 13 blue, 6 green; 12 blue, 6 green, Game 67: 1 blue, 2 green, 6 red; 7 red, 5 blue; 9 red, 13 blue, 5 green; 4 green, 4 blue, 5 red; 11 blue, 7 red; 3 blue, 9 red, Game 68: 2 blue, 8 green, 16 red; 11 green, 13 blue; 6 red, 7 green, 1 blue; 4 green, 7 red, 8 blue, Game 69: 7 green, 3 blue, 5 red; 11 green, 4 blue; 1 red, 15 green, 10 blue; 8 green, 12 blue, 4 red, Game 70: 8 blue, 8 green; 4 blue, 1 red, 6 green; 1 green, 1 blue; 7 green, 4 blue, Game 71: 7 red, 13 blue, 4 green; 2 blue, 11 red, 9 green; 14 blue, 6 green, 2 red; 10 red, 6 blue, 10 green, Game 72: 1 blue, 9 green, 1 red; 4 blue, 6 green, 1 red; 1 red, 3 green, 3 blue; 10 green, 3 blue, 2 red; 3 blue, 1 red, 1 green; 3 green, 1 red, 3 blue, Game 73: 4 green, 15 red, 6 blue; 1 green, 12 red; 2 green, 16 red; 1 green, 12 red, 2 blue; 6 red, 4 green, 2 blue; 19 red, 3 blue, 2 green, Game 74: 14 green, 2 blue, 3 red; 13 green, 4 red; 3 green, 4 blue; 3 blue, 3 red; 2 red, 12 green; 3 blue, 3 green, Game 75: 13 red, 10 blue, 1 green; 14 blue, 9 red, 2 green; 8 blue; 1 green, 13 red, 11 blue, Game 76: 2 red, 8 blue, 12 green; 11 green, 2 red; 2 red, 2 blue, 10 green; 5 blue, 2 green; 3 red, 11 green, 8 blue, Game 77: 4 blue, 8 red, 14 green; 15 green, 12 red, 5 blue; 8 red, 5 green, 1 blue, Game 78: 8 red, 19 blue, 4 green; 18 blue, 2 red; 12 blue, 4 green, 8 red; 17 blue, 2 green, 9 red; 9 red, 10 blue, 1 green; 6 green, 9 blue, 1 red, Game 79: 1 blue, 11 red, 2 green; 2 red, 2 green, 6 blue; 11 red, 2 blue, 2 green; 11 red, 2 green, 4 blue, Game 80: 1 red, 9 blue; 1 red, 5 blue, 8 green; 5 green, 1 red, 4 blue; 2 green, 9 blue, 1 red; 7 blue, 1 green, 1 red, Game 81: 1 green, 1 blue, 7 red; 3 blue, 7 green, 6 red; 5 green; 3 blue; 3 red, 4 blue, 1 green; 5 red, 9 green, Game 82: 12 blue, 4 red, 4 green; 7 red, 4 blue; 3 green, 10 red, 3 blue; 6 blue, 13 red; 4 blue, 5 red, 1 green, Game 83: 1 red, 1 green, 18 blue; 20 blue, 16 red, 1 green; 17 blue, 12 red; 1 green, 9 blue, 7 red, Game 84: 6 blue, 7 green, 6 red; 6 red, 10 green, 1 blue; 5 red, 8 green; 13 green, 2 red, 7 blue, Game 85: 1 blue, 7 red, 11 green; 1 red; 8 red, 10 green, 4 blue; 4 red, 11 green, 1 blue; 1 blue, 6 green, Game 86: 9 green, 2 blue; 3 red, 1 green, 2 blue; 1 green, 5 blue, 9 red; 1 blue, 2 green; 9 red, 1 green, 4 blue, Game 87: 15 red, 1 green, 16 blue; 1 green, 6 red, 17 blue; 7 red, 1 green, 3 blue; 8 red, 3 blue, 1 green; 15 red, 1 green, Game 88: 7 green, 3 red, 10 blue; 8 blue, 8 red, 3 green; 18 green, 1 blue, 7 red; 8 red, 7 green, 10 blue, Game 89: 5 red, 16 blue; 7 blue; 5 blue, 4 red; 3 blue, 4 green, 6 red; 1 red, 2 green, 16 blue, Game 90: 19 blue, 5 green, 4 red; 2 green, 20 blue, 1 red; 18 blue, Game 91: 10 red, 11 blue, 1 green; 18 red, 12 blue; 11 blue, 10 red, Game 92: 3 green, 1 blue; 8 red, 5 green; 10 red, 3 green, Game 93: 5 green, 1 blue, 5 red; 1 blue, 2 red, 7 green; 2 green, 6 red, 1 blue; 7 green, 1 blue, 2 red; 6 red, 1 green, Game 94: 3 red, 6 blue, 2 green; 5 blue, 9 red; 11 blue, 5 red, 2 green; 2 green, 3 red, 14 blue; 5 red, 13 blue; 6 blue, 2 green, 8 red, Game 95: 4 red, 3 green, 17 blue; 1 red, 5 green, 4 blue; 15 blue, 11 green; 5 green, 1 red, 4 blue; 11 blue, 2 green, 17 red, Game 96: 3 red, 20 blue, 18 green; 1 red, 1 blue, 20 green; 18 blue, 4 green, 8 red, Game 97: 11 green; 7 red, 8 green, 2 blue; 4 green, 17 red; 4 green, 7 red; 14 green, 18 red, 2 blue, Game 98: 2 blue, 7 green, 1 red; 9 green, 10 red, 5 blue; 13 blue, 10 red, 8 green; 8 green, 11 red, 12 blue; 5 blue, 4 green, 2 red, Game 99: 2 blue, 13 green; 1 blue; 1 red, 2 blue, 2 green; 1 red, 1 blue, Game 100: 1 red, 14 green; 17 green, 12 red; 3 green, 7 red, 3 blue; 4 green, 13 red, 3 blue; 5 green, 11 red, 5 blue]"
     },
     "execution_count": 36,
     "metadata": {},
     "output_type": "execute_result"
    }
   ],
   "source": [
    "import java.io.File\n",
    "\n",
    "val input = File(\"input.txt\").readLines()\n",
    "input"
   ]
  },
  {
   "cell_type": "code",
   "outputs": [
    {
     "data": {
      "text/plain": "[Game(id=1, sets=[{red=1, green=10, blue=9}, {red=1, green=7, blue=0}, {red=0, green=11, blue=6}, {red=0, green=12, blue=8}]), Game(id=2, sets=[{red=11, green=7, blue=3}, {red=5, green=8, blue=1}, {red=2, green=12, blue=1}, {red=7, green=10, blue=5}]), Game(id=3, sets=[{red=2, green=7, blue=1}, {red=8, green=0, blue=1}, {red=19, green=7, blue=5}, {red=18, green=10, blue=1}, {red=10, green=4, blue=6}]), Game(id=4, sets=[{red=2, green=5, blue=2}, {red=7, green=3, blue=0}, {red=2, green=0, blue=3}, {red=0, green=16, blue=2}]), Game(id=5, sets=[{red=9, green=0, blue=1}, {red=6, green=9, blue=5}, {red=8, green=3, blue=10}, {red=3, green=13, blue=4}, {red=9, green=5, blue=6}, {red=8, green=4, blue=7}]), Game(id=6, sets=[{red=1, green=2, blue=0}, {red=2, green=0, blue=1}, {red=5, green=10, blue=2}, {red=3, green=2, blue=1}, {red=1, green=6, blue=0}]), Game(id=7, sets=[{red=5, green=14, blue=9}, {red=2, green=10, blue=8}, {red=1, green=20, blue=0}, {red=4, green=17, blue=4}]), Game(id=8, sets=[{red=8, green=16, blue=16}, {red=6, green=10, blue=16}, {red=16, green=8, blue=13}, {red=10, green=13, blue=13}]), Game(id=9, sets=[{red=4, green=10, blue=8}, {red=12, green=18, blue=14}, {red=17, green=4, blue=10}, {red=16, green=5, blue=6}, {red=11, green=0, blue=9}, {red=13, green=16, blue=7}]), Game(id=10, sets=[{red=2, green=5, blue=13}, {red=3, green=2, blue=17}, {red=15, green=3, blue=12}, {red=14, green=0, blue=7}, {red=3, green=4, blue=17}]), Game(id=11, sets=[{red=15, green=8, blue=10}, {red=3, green=4, blue=11}, {red=5, green=4, blue=10}, {red=4, green=1, blue=7}, {red=2, green=0, blue=9}, {red=18, green=8, blue=2}]), Game(id=12, sets=[{red=16, green=10, blue=0}, {red=12, green=3, blue=8}, {red=8, green=10, blue=7}, {red=12, green=10, blue=0}]), Game(id=13, sets=[{red=2, green=5, blue=0}, {red=4, green=4, blue=13}, {red=0, green=4, blue=8}]), Game(id=14, sets=[{red=3, green=9, blue=1}, {red=3, green=1, blue=1}, {red=0, green=6, blue=0}, {red=5, green=3, blue=0}, {red=4, green=0, blue=1}]), Game(id=15, sets=[{red=13, green=7, blue=2}, {red=4, green=6, blue=7}, {red=11, green=4, blue=8}, {red=10, green=1, blue=7}, {red=6, green=9, blue=3}, {red=11, green=6, blue=1}]), Game(id=16, sets=[{red=1, green=14, blue=0}, {red=4, green=4, blue=1}, {red=3, green=5, blue=1}, {red=5, green=14, blue=1}, {red=1, green=12, blue=1}, {red=6, green=14, blue=1}]), Game(id=17, sets=[{red=14, green=14, blue=0}, {red=10, green=19, blue=3}, {red=10, green=4, blue=1}]), Game(id=18, sets=[{red=12, green=9, blue=1}, {red=10, green=1, blue=0}, {red=3, green=0, blue=1}]), Game(id=19, sets=[{red=3, green=3, blue=6}, {red=0, green=0, blue=12}, {red=11, green=3, blue=14}, {red=13, green=1, blue=14}, {red=9, green=0, blue=5}]), Game(id=20, sets=[{red=3, green=11, blue=10}, {red=2, green=16, blue=0}, {red=4, green=16, blue=6}, {red=7, green=14, blue=1}, {red=5, green=11, blue=9}]), Game(id=21, sets=[{red=1, green=0, blue=0}, {red=4, green=0, blue=0}, {red=2, green=2, blue=1}]), Game(id=22, sets=[{red=3, green=11, blue=3}, {red=0, green=6, blue=12}, {red=1, green=1, blue=5}, {red=0, green=6, blue=9}, {red=1, green=10, blue=8}]), Game(id=23, sets=[{red=0, green=3, blue=13}, {red=3, green=5, blue=6}, {red=2, green=11, blue=9}]), Game(id=24, sets=[{red=0, green=1, blue=1}, {red=0, green=0, blue=1}, {red=1, green=0, blue=0}]), Game(id=25, sets=[{red=7, green=1, blue=14}, {red=4, green=6, blue=17}, {red=5, green=0, blue=7}, {red=2, green=6, blue=20}]), Game(id=26, sets=[{red=8, green=10, blue=11}, {red=4, green=13, blue=2}, {red=9, green=6, blue=1}]), Game(id=27, sets=[{red=6, green=9, blue=1}, {red=7, green=14, blue=0}, {red=2, green=13, blue=0}, {red=2, green=13, blue=0}, {red=7, green=2, blue=0}]), Game(id=28, sets=[{red=10, green=6, blue=0}, {red=11, green=7, blue=1}, {red=8, green=5, blue=0}, {red=13, green=10, blue=0}, {red=17, green=3, blue=0}]), Game(id=29, sets=[{red=3, green=13, blue=4}, {red=2, green=9, blue=1}, {red=2, green=11, blue=5}, {red=2, green=7, blue=1}, {red=1, green=12, blue=4}]), Game(id=30, sets=[{red=3, green=1, blue=6}, {red=3, green=1, blue=1}, {red=2, green=6, blue=2}]), Game(id=31, sets=[{red=11, green=0, blue=0}, {red=5, green=2, blue=0}, {red=6, green=3, blue=1}, {red=18, green=1, blue=0}, {red=14, green=2, blue=0}]), Game(id=32, sets=[{red=11, green=12, blue=11}, {red=5, green=5, blue=14}, {red=18, green=7, blue=5}]), Game(id=33, sets=[{red=11, green=4, blue=8}, {red=11, green=3, blue=14}, {red=0, green=3, blue=1}, {red=17, green=2, blue=9}, {red=3, green=7, blue=7}, {red=3, green=2, blue=7}]), Game(id=34, sets=[{red=0, green=17, blue=1}, {red=1, green=10, blue=2}, {red=1, green=10, blue=0}, {red=1, green=6, blue=1}, {red=1, green=2, blue=2}]), Game(id=35, sets=[{red=5, green=5, blue=1}, {red=8, green=3, blue=4}, {red=0, green=5, blue=14}, {red=14, green=5, blue=4}]), Game(id=36, sets=[{red=7, green=13, blue=2}, {red=2, green=2, blue=0}, {red=1, green=12, blue=0}, {red=8, green=7, blue=0}]), Game(id=37, sets=[{red=11, green=4, blue=1}, {red=12, green=3, blue=5}, {red=12, green=1, blue=1}, {red=9, green=10, blue=0}, {red=7, green=5, blue=2}, {red=1, green=7, blue=4}]), Game(id=38, sets=[{red=14, green=6, blue=20}, {red=14, green=12, blue=13}, {red=10, green=10, blue=9}, {red=15, green=9, blue=9}]), Game(id=39, sets=[{red=0, green=0, blue=4}, {red=0, green=8, blue=7}, {red=5, green=12, blue=2}, {red=3, green=3, blue=2}, {red=5, green=1, blue=1}, {red=6, green=0, blue=1}]), Game(id=40, sets=[{red=10, green=7, blue=3}, {red=1, green=7, blue=2}, {red=2, green=11, blue=5}, {red=12, green=6, blue=4}, {red=9, green=13, blue=7}, {red=8, green=7, blue=14}]), Game(id=41, sets=[{red=14, green=3, blue=17}, {red=17, green=4, blue=18}, {red=17, green=2, blue=8}, {red=6, green=7, blue=13}]), Game(id=42, sets=[{red=0, green=16, blue=1}, {red=0, green=14, blue=0}, {red=7, green=4, blue=17}, {red=6, green=8, blue=7}]), Game(id=43, sets=[{red=8, green=0, blue=15}, {red=8, green=1, blue=11}, {red=3, green=0, blue=17}]), Game(id=44, sets=[{red=10, green=2, blue=11}, {red=6, green=8, blue=4}, {red=10, green=6, blue=2}, {red=12, green=7, blue=1}]), Game(id=45, sets=[{red=4, green=4, blue=1}, {red=2, green=5, blue=0}, {red=1, green=3, blue=6}, {red=1, green=2, blue=12}]), Game(id=46, sets=[{red=0, green=0, blue=2}, {red=1, green=0, blue=4}, {red=15, green=0, blue=2}, {red=5, green=4, blue=3}, {red=13, green=4, blue=0}, {red=9, green=3, blue=1}]), Game(id=47, sets=[{red=2, green=2, blue=13}, {red=3, green=2, blue=12}, {red=0, green=2, blue=1}]), Game(id=48, sets=[{red=11, green=4, blue=1}, {red=5, green=8, blue=2}, {red=6, green=0, blue=0}]), Game(id=49, sets=[{red=1, green=10, blue=0}, {red=5, green=3, blue=8}, {red=7, green=5, blue=7}]), Game(id=50, sets=[{red=1, green=5, blue=12}, {red=2, green=0, blue=7}, {red=0, green=3, blue=12}, {red=0, green=0, blue=16}, {red=0, green=3, blue=1}, {red=2, green=11, blue=14}]), Game(id=51, sets=[{red=15, green=1, blue=6}, {red=15, green=1, blue=2}, {red=12, green=2, blue=0}]), Game(id=52, sets=[{red=5, green=5, blue=11}, {red=4, green=18, blue=10}, {red=8, green=14, blue=8}, {red=2, green=9, blue=11}, {red=5, green=10, blue=9}]), Game(id=53, sets=[{red=1, green=1, blue=0}, {red=1, green=2, blue=2}, {red=0, green=2, blue=1}]), Game(id=54, sets=[{red=3, green=7, blue=4}, {red=0, green=13, blue=4}, {red=1, green=2, blue=7}, {red=5, green=17, blue=5}]), Game(id=55, sets=[{red=8, green=11, blue=11}, {red=6, green=1, blue=15}, {red=7, green=11, blue=8}, {red=1, green=2, blue=11}, {red=3, green=0, blue=11}, {red=3, green=10, blue=7}]), Game(id=56, sets=[{red=0, green=3, blue=13}, {red=1, green=1, blue=7}, {red=2, green=0, blue=17}, {red=4, green=4, blue=3}]), Game(id=57, sets=[{red=12, green=9, blue=11}, {red=13, green=6, blue=1}, {red=14, green=1, blue=4}, {red=11, green=3, blue=6}]), Game(id=58, sets=[{red=6, green=7, blue=2}, {red=1, green=4, blue=0}, {red=10, green=8, blue=1}]), Game(id=59, sets=[{red=11, green=3, blue=3}, {red=5, green=8, blue=1}, {red=9, green=10, blue=0}, {red=5, green=5, blue=1}, {red=0, green=4, blue=8}, {red=0, green=13, blue=0}]), Game(id=60, sets=[{red=7, green=11, blue=2}, {red=5, green=9, blue=2}, {red=2, green=8, blue=3}, {red=6, green=9, blue=2}, {red=5, green=4, blue=2}, {red=6, green=11, blue=5}]), Game(id=61, sets=[{red=8, green=5, blue=7}, {red=1, green=11, blue=12}, {red=14, green=15, blue=15}, {red=14, green=6, blue=7}, {red=0, green=0, blue=9}, {red=11, green=3, blue=10}]), Game(id=62, sets=[{red=8, green=1, blue=1}, {red=2, green=8, blue=1}, {red=15, green=4, blue=11}, {red=1, green=5, blue=2}, {red=12, green=15, blue=11}]), Game(id=63, sets=[{red=6, green=3, blue=7}, {red=8, green=2, blue=0}, {red=3, green=4, blue=4}, {red=3, green=10, blue=6}, {red=6, green=9, blue=4}, {red=5, green=10, blue=8}]), Game(id=64, sets=[{red=9, green=1, blue=1}, {red=17, green=0, blue=3}, {red=8, green=2, blue=0}, {red=12, green=0, blue=8}]), Game(id=65, sets=[{red=2, green=0, blue=15}, {red=0, green=1, blue=14}, {red=1, green=10, blue=10}, {red=1, green=10, blue=12}, {red=0, green=1, blue=13}]), Game(id=66, sets=[{red=3, green=18, blue=7}, {red=2, green=0, blue=19}, {red=5, green=11, blue=8}, {red=1, green=12, blue=15}, {red=0, green=6, blue=13}, {red=0, green=6, blue=12}]), Game(id=67, sets=[{red=6, green=2, blue=1}, {red=7, green=0, blue=5}, {red=9, green=5, blue=13}, {red=5, green=4, blue=4}, {red=7, green=0, blue=11}, {red=9, green=0, blue=3}]), Game(id=68, sets=[{red=16, green=8, blue=2}, {red=0, green=11, blue=13}, {red=6, green=7, blue=1}, {red=7, green=4, blue=8}]), Game(id=69, sets=[{red=5, green=7, blue=3}, {red=0, green=11, blue=4}, {red=1, green=15, blue=10}, {red=4, green=8, blue=12}]), Game(id=70, sets=[{red=0, green=8, blue=8}, {red=1, green=6, blue=4}, {red=0, green=1, blue=1}, {red=0, green=7, blue=4}]), Game(id=71, sets=[{red=7, green=4, blue=13}, {red=11, green=9, blue=2}, {red=2, green=6, blue=14}, {red=10, green=10, blue=6}]), Game(id=72, sets=[{red=1, green=9, blue=1}, {red=1, green=6, blue=4}, {red=1, green=3, blue=3}, {red=2, green=10, blue=3}, {red=1, green=1, blue=3}, {red=1, green=3, blue=3}]), Game(id=73, sets=[{red=15, green=4, blue=6}, {red=12, green=1, blue=0}, {red=16, green=2, blue=0}, {red=12, green=1, blue=2}, {red=6, green=4, blue=2}, {red=19, green=2, blue=3}]), Game(id=74, sets=[{red=3, green=14, blue=2}, {red=4, green=13, blue=0}, {red=0, green=3, blue=4}, {red=3, green=0, blue=3}, {red=2, green=12, blue=0}, {red=0, green=3, blue=3}]), Game(id=75, sets=[{red=13, green=1, blue=10}, {red=9, green=2, blue=14}, {red=0, green=0, blue=8}, {red=13, green=1, blue=11}]), Game(id=76, sets=[{red=2, green=12, blue=8}, {red=2, green=11, blue=0}, {red=2, green=10, blue=2}, {red=0, green=2, blue=5}, {red=3, green=11, blue=8}]), Game(id=77, sets=[{red=8, green=14, blue=4}, {red=12, green=15, blue=5}, {red=8, green=5, blue=1}]), Game(id=78, sets=[{red=8, green=4, blue=19}, {red=2, green=0, blue=18}, {red=8, green=4, blue=12}, {red=9, green=2, blue=17}, {red=9, green=1, blue=10}, {red=1, green=6, blue=9}]), Game(id=79, sets=[{red=11, green=2, blue=1}, {red=2, green=2, blue=6}, {red=11, green=2, blue=2}, {red=11, green=2, blue=4}]), Game(id=80, sets=[{red=1, green=0, blue=9}, {red=1, green=8, blue=5}, {red=1, green=5, blue=4}, {red=1, green=2, blue=9}, {red=1, green=1, blue=7}]), Game(id=81, sets=[{red=7, green=1, blue=1}, {red=6, green=7, blue=3}, {red=0, green=5, blue=0}, {red=0, green=0, blue=3}, {red=3, green=1, blue=4}, {red=5, green=9, blue=0}]), Game(id=82, sets=[{red=4, green=4, blue=12}, {red=7, green=0, blue=4}, {red=10, green=3, blue=3}, {red=13, green=0, blue=6}, {red=5, green=1, blue=4}]), Game(id=83, sets=[{red=1, green=1, blue=18}, {red=16, green=1, blue=20}, {red=12, green=0, blue=17}, {red=7, green=1, blue=9}]), Game(id=84, sets=[{red=6, green=7, blue=6}, {red=6, green=10, blue=1}, {red=5, green=8, blue=0}, {red=2, green=13, blue=7}]), Game(id=85, sets=[{red=7, green=11, blue=1}, {red=1, green=0, blue=0}, {red=8, green=10, blue=4}, {red=4, green=11, blue=1}, {red=0, green=6, blue=1}]), Game(id=86, sets=[{red=0, green=9, blue=2}, {red=3, green=1, blue=2}, {red=9, green=1, blue=5}, {red=0, green=2, blue=1}, {red=9, green=1, blue=4}]), Game(id=87, sets=[{red=15, green=1, blue=16}, {red=6, green=1, blue=17}, {red=7, green=1, blue=3}, {red=8, green=1, blue=3}, {red=15, green=1, blue=0}]), Game(id=88, sets=[{red=3, green=7, blue=10}, {red=8, green=3, blue=8}, {red=7, green=18, blue=1}, {red=8, green=7, blue=10}]), Game(id=89, sets=[{red=5, green=0, blue=16}, {red=0, green=0, blue=7}, {red=4, green=0, blue=5}, {red=6, green=4, blue=3}, {red=1, green=2, blue=16}]), Game(id=90, sets=[{red=4, green=5, blue=19}, {red=1, green=2, blue=20}, {red=0, green=0, blue=18}]), Game(id=91, sets=[{red=10, green=1, blue=11}, {red=18, green=0, blue=12}, {red=10, green=0, blue=11}]), Game(id=92, sets=[{red=0, green=3, blue=1}, {red=8, green=5, blue=0}, {red=10, green=3, blue=0}]), Game(id=93, sets=[{red=5, green=5, blue=1}, {red=2, green=7, blue=1}, {red=6, green=2, blue=1}, {red=2, green=7, blue=1}, {red=6, green=1, blue=0}]), Game(id=94, sets=[{red=3, green=2, blue=6}, {red=9, green=0, blue=5}, {red=5, green=2, blue=11}, {red=3, green=2, blue=14}, {red=5, green=0, blue=13}, {red=8, green=2, blue=6}]), Game(id=95, sets=[{red=4, green=3, blue=17}, {red=1, green=5, blue=4}, {red=0, green=11, blue=15}, {red=1, green=5, blue=4}, {red=17, green=2, blue=11}]), Game(id=96, sets=[{red=3, green=18, blue=20}, {red=1, green=20, blue=1}, {red=8, green=4, blue=18}]), Game(id=97, sets=[{red=0, green=11, blue=0}, {red=7, green=8, blue=2}, {red=17, green=4, blue=0}, {red=7, green=4, blue=0}, {red=18, green=14, blue=2}]), Game(id=98, sets=[{red=1, green=7, blue=2}, {red=10, green=9, blue=5}, {red=10, green=8, blue=13}, {red=11, green=8, blue=12}, {red=2, green=4, blue=5}]), Game(id=99, sets=[{red=0, green=13, blue=2}, {red=0, green=0, blue=1}, {red=1, green=2, blue=2}, {red=1, green=0, blue=1}]), Game(id=100, sets=[{red=1, green=14, blue=0}, {red=12, green=17, blue=0}, {red=7, green=3, blue=3}, {red=13, green=4, blue=3}, {red=11, green=5, blue=5}])]"
     },
     "execution_count": 37,
     "metadata": {},
     "output_type": "execute_result"
    }
   ],
   "source": [
    "data class Game(val id: Int, val sets: List<Map<String, Int>>)\n",
    "\n",
    "val games = input.map { row -> \n",
    "    val game = row.split(\": \", \"; \").toMutableList()\n",
    "    Game(\n",
    "        game.removeFirst().substringAfter(\"Game \").toInt(),\n",
    "        game.map {\n",
    "            it.split(\", \").fold(mutableMapOf<String, Int>(\n",
    "                \"red\" to 0,\n",
    "                \"green\" to 0,\n",
    "                \"blue\" to 0\n",
    "            )) { acc, s ->\n",
    "                val (value, color) = s.split(\" \")\n",
    "                acc[color] = value.toInt()\n",
    "                acc\n",
    "            }\n",
    "        }\n",
    "    )\n",
    "}\n",
    "games"
   ],
   "metadata": {
    "collapsed": false,
    "ExecuteTime": {
     "end_time": "2024-01-15T10:34:27.825206200Z",
     "start_time": "2024-01-15T10:34:26.977114200Z"
    }
   },
   "execution_count": 37
  },
  {
   "cell_type": "markdown",
   "source": [
    "# Part1\n",
    "---"
   ],
   "metadata": {
    "collapsed": false
   }
  },
  {
   "cell_type": "code",
   "outputs": [
    {
     "data": {
      "text/plain": "2239"
     },
     "execution_count": 43,
     "metadata": {},
     "output_type": "execute_result"
    }
   ],
   "source": [
    "val part1 = games.filter { game -> \n",
    "    game.sets.all { set -> set[\"red\"] !!<= 12 && set[\"green\"] !!<= 13 && set[\"blue\"] !!<= 14 }\n",
    "}.sumOf { game -> \n",
    "    game.id\n",
    "}\n",
    "part1"
   ],
   "metadata": {
    "collapsed": false,
    "ExecuteTime": {
     "end_time": "2024-01-15T10:37:17.764120300Z",
     "start_time": "2024-01-15T10:37:17.636065300Z"
    }
   },
   "execution_count": 43
  },
  {
   "cell_type": "markdown",
   "source": [
    "# Part2\n",
    "----"
   ],
   "metadata": {
    "collapsed": false
   }
  },
  {
   "cell_type": "code",
   "outputs": [
    {
     "data": {
      "text/plain": "83435"
     },
     "execution_count": 61,
     "metadata": {},
     "output_type": "execute_result"
    }
   ],
   "source": [
    "val part2 = games.map { game -> \n",
    "    game.sets.flatMap { it.entries }.groupBy({ it.key }, { it.value }).mapValues { it.value.max() }.values.reduce { acc, v -> acc * v }\n",
    "}.reduce { acc, v -> acc + v }\n",
    "part2"
   ],
   "metadata": {
    "collapsed": false,
    "ExecuteTime": {
     "end_time": "2024-01-15T11:08:30.321007400Z",
     "start_time": "2024-01-15T11:08:30.145010600Z"
    }
   },
   "execution_count": 61
  }
 ],
 "metadata": {
  "kernelspec": {
   "display_name": "Kotlin",
   "language": "kotlin",
   "name": "kotlin"
  },
  "language_info": {
   "name": "kotlin",
   "version": "1.9.0",
   "mimetype": "text/x-kotlin",
   "file_extension": ".kt",
   "pygments_lexer": "kotlin",
   "codemirror_mode": "text/x-kotlin",
   "nbconvert_exporter": ""
  }
 },
 "nbformat": 4,
 "nbformat_minor": 0
}
