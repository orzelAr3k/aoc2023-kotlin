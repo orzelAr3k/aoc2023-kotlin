{
 "cells": [
  {
   "cell_type": "code",
   "execution_count": null,
   "metadata": {
    "collapsed": true
   },
   "outputs": [],
   "source": [
    "import java.io.File\n",
    "\n",
    "val input = File(\"input.txt\").readLines()\n",
    "input"
   ]
  },
  {
   "cell_type": "code",
   "outputs": [],
   "source": [
    "data class Game(val id: Int, val sets: List<Map<String, Int>>)\n",
    "\n",
    "val games = input.map { row -> \n",
    "    val game = row.split(\": \", \"; \").toMutableList()\n",
    "    Game(\n",
    "        game.removeFirst().substringAfter(\"Game \").toInt(),\n",
    "        game.map {\n",
    "            it.split(\", \").fold(mutableMapOf<String, Int>(\n",
    "                \"red\" to 0,\n",
    "                \"green\" to 0,\n",
    "                \"blue\" to 0\n",
    "            )) { acc, s ->\n",
    "                val (value, color) = s.split(\" \")\n",
    "                acc[color] = value.toInt()\n",
    "                acc\n",
    "            }\n",
    "        }\n",
    "    )\n",
    "}\n",
    "games"
   ],
   "metadata": {
    "collapsed": false
   },
   "execution_count": null
  },
  {
   "cell_type": "markdown",
   "source": [
    "# Part1\n",
    "---"
   ],
   "metadata": {
    "collapsed": false
   }
  },
  {
   "cell_type": "code",
   "outputs": [],
   "source": [
    "val part1 = games.filter { game -> \n",
    "    game.sets.all { set -> set[\"red\"] !!<= 12 && set[\"green\"] !!<= 13 && set[\"blue\"] !!<= 14 }\n",
    "}.sumOf { game -> \n",
    "    game.id\n",
    "}\n",
    "part1"
   ],
   "metadata": {
    "collapsed": false
   },
   "execution_count": null
  },
  {
   "cell_type": "markdown",
   "source": [
    "# Part2\n",
    "----"
   ],
   "metadata": {
    "collapsed": false
   }
  },
  {
   "cell_type": "code",
   "outputs": [],
   "source": [
    "val part2 = games.map { game -> \n",
    "    game.sets.flatMap { it.entries }.groupBy({ it.key }, { it.value }).mapValues { it.value.max() }.values.reduce { acc, v -> acc * v }\n",
    "}.reduce { acc, v -> acc + v }\n",
    "part2"
   ],
   "metadata": {
    "collapsed": false
   },
   "execution_count": null
  }
 ],
 "metadata": {
  "kernelspec": {
   "display_name": "Kotlin",
   "language": "kotlin",
   "name": "kotlin"
  },
  "language_info": {
   "name": "kotlin",
   "version": "1.9.0",
   "mimetype": "text/x-kotlin",
   "file_extension": ".kt",
   "pygments_lexer": "kotlin",
   "codemirror_mode": "text/x-kotlin",
   "nbconvert_exporter": ""
  }
 },
 "nbformat": 4,
 "nbformat_minor": 0
}
