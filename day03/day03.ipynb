{
 "cells": [
  {
   "cell_type": "code",
   "execution_count": null,
   "metadata": {
    "collapsed": true
   },
   "outputs": [],
   "source": [
    "import java.io.File\n",
    "\n",
    "val input = File(\"input.txt\").readLines()\n",
    "input"
   ]
  },
  {
   "cell_type": "code",
   "outputs": [],
   "source": [
    "fun IntRange.isOverlappingWith(range: IntRange): Boolean {\n",
    "    return range.first() <= this.last && range.last() >= this.first\n",
    "}\n",
    "\n",
    "fun List<Int>.asIntRange(): IntRange {\n",
    "    return this.first()..this.last()\n",
    "}\n",
    "\n",
    "val nonSpecialChars = setOf('0', '1', '2', '3', '4', '5', '6', '7', '8', '9', '.')\n",
    "\n",
    "class Schematic(private val grid: List<String>) {\n",
    "    private val numberRegex = \"\\\\d+\".toRegex()\n",
    "    private val gearRegex = Regex.fromLiteral(\"*\")\n",
    "    val partNumbers: List<Int>\n",
    "    val gearRatios: List<Int>\n",
    "\n",
    "    init {\n",
    "        partNumbers = findAll(numberRegex)\n",
    "            .filter { isBoundedBySpecialChars(it) }\n",
    "            .map { (_, match) -> match.value.toInt() }\n",
    "\n",
    "        gearRatios = findAll(gearRegex)\n",
    "            .map { getBoundingNumbers(it) }\n",
    "            .filter { it.size == 2 }\n",
    "            .map { toGearRatio(it) }\n",
    "    }\n",
    "\n",
    "    private fun findAll(regex: Regex): List<Pair<Int, MatchResult>> =\n",
    "        grid.flatMapIndexed { index, s -> regex.findAll(s).map { index to it } }\n",
    "\n",
    "    private fun getBoundingNumbers(indexMatch: Pair<Int, MatchResult>): List<Int> {\n",
    "        val (rowRange, colRange) = getBoundingRectangle(indexMatch)\n",
    "        return rowRange.flatMap { numberRegex.findAll(grid[it]) }\n",
    "            .filter { mr -> mr.range.isOverlappingWith(colRange) }\n",
    "            .map { mr -> mr.value.toInt() }\n",
    "    }\n",
    "\n",
    "    private fun toGearRatio(it: List<Int>) = it[0] * it[1]\n",
    "\n",
    "    private fun isBoundedBySpecialChars(indexMatch: Pair<Int, MatchResult>): Boolean {\n",
    "        val (rowRange, colRange) = getBoundingRectangle(indexMatch)\n",
    "        return rowRange.any { row -> colRange.any { col -> grid[row][col] !in nonSpecialChars } }\n",
    "    }\n",
    "\n",
    "    private fun getBoundingRectangle(indexMatch: Pair<Int, MatchResult>): Pair<IntRange, IntRange> {\n",
    "        val (index, match) = indexMatch\n",
    "        val rowRange = ((index - 1)..(index + 1)).filter { row -> row in grid.indices }\n",
    "        val colRange = ((match.range.first - 1)..(match.range.last + 1)).filter { col -> col in grid[0].indices }\n",
    "        return rowRange.asIntRange() to colRange.asIntRange()\n",
    "    }\n",
    "}"
   ],
   "metadata": {
    "collapsed": false
   },
   "execution_count": null
  },
  {
   "cell_type": "markdown",
   "source": [
    "# Part1\n",
    "---"
   ],
   "metadata": {
    "collapsed": false
   }
  },
  {
   "cell_type": "code",
   "outputs": [],
   "source": [
    "val part1 = input.let {\n",
    "    Schematic(it).partNumbers\n",
    "}.sum()\n",
    "part1"
   ],
   "metadata": {
    "collapsed": false
   },
   "execution_count": null
  },
  {
   "cell_type": "markdown",
   "source": [
    "# Part2\n",
    "---"
   ],
   "metadata": {
    "collapsed": false
   }
  },
  {
   "cell_type": "code",
   "outputs": [],
   "source": [
    "val part2 = input.let {\n",
    "    Schematic(it).gearRatios\n",
    "}.sum()\n",
    "part2"
   ],
   "metadata": {
    "collapsed": false
   },
   "execution_count": null
  }
 ],
 "metadata": {
  "kernelspec": {
   "display_name": "Kotlin",
   "language": "kotlin",
   "name": "kotlin"
  },
  "language_info": {
   "name": "kotlin",
   "version": "1.9.0",
   "mimetype": "text/x-kotlin",
   "file_extension": ".kt",
   "pygments_lexer": "kotlin",
   "codemirror_mode": "text/x-kotlin",
   "nbconvert_exporter": ""
  }
 },
 "nbformat": 4,
 "nbformat_minor": 0
}
