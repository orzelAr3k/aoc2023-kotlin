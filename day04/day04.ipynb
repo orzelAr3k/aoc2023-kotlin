{
 "cells": [
  {
   "cell_type": "code",
   "execution_count": null,
   "metadata": {
    "collapsed": true
   },
   "outputs": [],
   "source": [
    "import java.io.File\n",
    "\n",
    "val input = File(\"input.txt\").readLines()\n",
    "input"
   ]
  },
  {
   "cell_type": "code",
   "outputs": [],
   "source": [
    "data class Card(val id: Int, val winning: List<Int>, val numbers: List<Int>)\n",
    "\n",
    "val cards = input.mapIndexed { index, card ->\n",
    "    val (winning, numbers) = card.substringAfter(\": \").split(\" | \")\n",
    "    Card(index, winning.split(\" \").filter { it.isNotBlank() }.map { it.toInt() }, numbers.split(\" \").filter { it.isNotBlank() }.map { it.toInt() })\n",
    "}\n",
    "cards"
   ],
   "metadata": {
    "collapsed": false
   },
   "execution_count": null
  },
  {
   "cell_type": "markdown",
   "source": [
    "# Part1\n",
    "---"
   ],
   "metadata": {
    "collapsed": false
   }
  },
  {
   "cell_type": "code",
   "outputs": [],
   "source": [
    "fun countScore(numOfWins: Int) =\n",
    "    numOfWins.let { if (it != 0) Math.pow(2.0, (it.toDouble() - 1)).toInt() else 0 }\n",
    "\n",
    "val part1 = cards.map { card -> \n",
    "    countScore(card.numbers.count { it in card.winning })\n",
    "}.sum()\n",
    "part1"
   ],
   "metadata": {
    "collapsed": false
   },
   "execution_count": null
  },
  {
   "cell_type": "markdown",
   "source": [
    "# Part2\n",
    "---"
   ],
   "metadata": {
    "collapsed": false
   }
  },
  {
   "cell_type": "code",
   "outputs": [],
   "source": [
    "val part2 = cards.let {\n",
    "    val copies = it.associate { it.id to 1 }.toMutableMap()\n",
    "    it.forEach {\n",
    "        val winningNum = it.winning.intersect(it.numbers.toSet()).size\n",
    "        for (i in it.id + 1..it.id + winningNum) {\n",
    "            copies[i] = copies[i]!! + copies[it.id]!!\n",
    "        }\n",
    "    }\n",
    "    copies.values.sum()\n",
    "}\n",
    "part2"
   ],
   "metadata": {
    "collapsed": false
   },
   "execution_count": null
  }
 ],
 "metadata": {
  "kernelspec": {
   "display_name": "Kotlin",
   "language": "kotlin",
   "name": "kotlin"
  },
  "language_info": {
   "name": "kotlin",
   "version": "1.9.0",
   "mimetype": "text/x-kotlin",
   "file_extension": ".kt",
   "pygments_lexer": "kotlin",
   "codemirror_mode": "text/x-kotlin",
   "nbconvert_exporter": ""
  }
 },
 "nbformat": 4,
 "nbformat_minor": 0
}
