{
 "cells": [
  {
   "cell_type": "code",
   "execution_count": null,
   "metadata": {
    "collapsed": true
   },
   "outputs": [],
   "source": [
    "import java.io.File\n",
    "\n",
    "val input = File(\"input.txt\").readLines().toMutableList()\n",
    "input"
   ]
  },
  {
   "cell_type": "code",
   "outputs": [],
   "source": [
    "val seeds = input\n",
    "    .removeFirst()\n",
    "    .substringAfter(\":\")\n",
    "    .split(\" \")\n",
    "    .filter { it.isNotBlank() }\n",
    "    .map { it.toLong() }\n",
    "seeds"
   ],
   "metadata": {
    "collapsed": false
   },
   "execution_count": null
  },
  {
   "cell_type": "code",
   "outputs": [],
   "source": [
    "data class Block(val src: Long, val dst: Long, val len: Long)\n",
    "data class Pipe(val from: String, val to: String, val blocks: List<Block>)"
   ],
   "metadata": {
    "collapsed": false
   },
   "execution_count": null
  },
  {
   "cell_type": "code",
   "outputs": [],
   "source": [
    "val pipes = input.drop(1).fold(mutableListOf(mutableListOf<String>())) {\n",
    "    acc, f -> \n",
    "    if (f.isBlank()) acc.add(mutableListOf<String>())\n",
    "    else acc.last().add(f)\n",
    "    acc\n",
    "}.map {\n",
    "    val (from, _, to) = it.removeFirst().split(\"-\", \" \")\n",
    "    val blocks = it.map { \n",
    "        val (dst, src, len) = it.split(\" \").map { it.toLong() }\n",
    "        Block(src, dst, len)\n",
    "    }\n",
    "    Pipe(from, to, blocks)\n",
    "}\n",
    "pipes"
   ],
   "metadata": {
    "collapsed": false
   },
   "execution_count": null
  },
  {
   "cell_type": "code",
   "outputs": [],
   "source": [
    "seeds"
   ],
   "metadata": {
    "collapsed": false
   },
   "execution_count": null
  },
  {
   "cell_type": "code",
   "outputs": [],
   "source": [
    "val pipeSeeds = pipes.fold(mutableMapOf<String, List<Long>>(\"seed\" to seeds)) { acc, pipe -> \n",
    "    acc[pipe.to] = acc[pipe.from]!!.map {\n",
    "        var p = it\n",
    "        for (block in pipe.blocks)\n",
    "            if (it in block.src..block.src + block.len) \n",
    "                p += (block.dst - block.src)\n",
    "//                print(pipe.to.toString() + it.toString() + \" -> \" + (it + block.dst - block.src).toString() + \"\\n\")\n",
    "        p\n",
    "    }\n",
    "    acc\n",
    "}\n",
    "pipeSeeds.toDataFrame()"
   ],
   "metadata": {
    "collapsed": false
   },
   "execution_count": null
  },
  {
   "cell_type": "code",
   "outputs": [],
   "source": [
    "pipeSeeds[\"location\"]!!.min()"
   ],
   "metadata": {
    "collapsed": false
   },
   "execution_count": null
  }
 ],
 "metadata": {
  "kernelspec": {
   "display_name": "Kotlin",
   "language": "kotlin",
   "name": "kotlin"
  },
  "language_info": {
   "name": "kotlin",
   "version": "1.9.0",
   "mimetype": "text/x-kotlin",
   "file_extension": ".kt",
   "pygments_lexer": "kotlin",
   "codemirror_mode": "text/x-kotlin",
   "nbconvert_exporter": ""
  }
 },
 "nbformat": 4,
 "nbformat_minor": 0
}
