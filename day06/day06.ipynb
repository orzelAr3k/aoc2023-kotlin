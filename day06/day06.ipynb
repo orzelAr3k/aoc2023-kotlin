{
 "cells": [
  {
   "cell_type": "code",
   "execution_count": null,
   "metadata": {
    "collapsed": true
   },
   "outputs": [],
   "source": [
    "import java.io.File\n",
    "\n",
    "val input = File(\"input.txt\").readLines()\n",
    "input"
   ]
  },
  {
   "cell_type": "markdown",
   "source": [
    "### Calculation\n",
    "---\n",
    "$$x \\cdot (time - x) > distance$$\n",
    "$$x^2 - x \\cdot time < -distance$$\n",
    "$$(x^2 - x \\cdot time + \\frac{time}{2}^2) < -distance$$\n",
    "$$|x - \\frac{time}{2}| < \\sqrt{\\frac{time}{2}^2 - distance}$$\n",
    "\n",
    "\n",
    "$$x > \\frac{time}{2} - \\sqrt{\\frac{time}{2}^2 - distance} \\wedge x < \\frac{time}{2} + \\sqrt{\\frac{time}{2}^2 - distance}$$\n",
    "\n"
   ],
   "metadata": {
    "collapsed": false
   }
  },
  {
   "cell_type": "code",
   "outputs": [],
   "source": [
    "data class Race(val time: Long, val distance: Long) {\n",
    "    fun winningRaces(): Int {\n",
    "        val halfTime = time / 2.0\n",
    "        val space = sqrt(halfTime * halfTime - distance.toDouble())\n",
    "        return (ceil(halfTime + space - 1) - floor(halfTime - space + 1) + 1).toInt()\n",
    "    }\n",
    "}"
   ],
   "metadata": {
    "collapsed": false
   },
   "execution_count": null
  },
  {
   "cell_type": "markdown",
   "source": [
    "# Part1\n",
    "---"
   ],
   "metadata": {
    "collapsed": false
   }
  },
  {
   "cell_type": "code",
   "outputs": [],
   "source": [
    "val part1 = input\n",
    "        .map { it.substringAfter(\": \").split(\" \").filter(String::isNotBlank).map(String::toLong)}\n",
    "        .let { it[0] zip it[1] }\n",
    "        .map { (time, distance) -> Race(time, distance) }\n",
    "        .fold(1) { acc, race -> acc * race.winningRaces() }\n",
    "part1"
   ],
   "metadata": {
    "collapsed": false
   },
   "execution_count": null
  },
  {
   "cell_type": "markdown",
   "source": [
    "# Part2\n",
    "---"
   ],
   "metadata": {
    "collapsed": false
   }
  },
  {
   "cell_type": "code",
   "outputs": [],
   "source": [
    "val part2 = Race(input[0].filter(Char::isDigit).toLong(), input[1].filter(Char::isDigit).toLong()).winningRaces()\n",
    "part2"
   ],
   "metadata": {
    "collapsed": false
   },
   "execution_count": null
  }
 ],
 "metadata": {
  "kernelspec": {
   "display_name": "Kotlin",
   "language": "kotlin",
   "name": "kotlin"
  },
  "language_info": {
   "name": "kotlin",
   "version": "1.9.0",
   "mimetype": "text/x-kotlin",
   "file_extension": ".kt",
   "pygments_lexer": "kotlin",
   "codemirror_mode": "text/x-kotlin",
   "nbconvert_exporter": ""
  }
 },
 "nbformat": 4,
 "nbformat_minor": 0
}
