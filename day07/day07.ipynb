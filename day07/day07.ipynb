{
 "cells": [
  {
   "cell_type": "code",
   "execution_count": null,
   "metadata": {
    "collapsed": true
   },
   "outputs": [],
   "source": [
    "import java.io.File\n",
    "\n",
    "val input = File(\"input.txt\").readLines()\n",
    "input"
   ]
  },
  {
   "cell_type": "code",
   "outputs": [],
   "source": [
    "data class Hand(val cards: String, val bid: Int)\n",
    "\n",
    "enum class Types {\n",
    "    HIGH, ONEPAIR, TWOPAIR, THREE, FULL, FOUR, FIVE\n",
    "}\n",
    "\n",
    "var figureMap = mapOf(\n",
    "        '2' to 'a',\n",
    "        '3' to 'b',\n",
    "        '4' to 'c',\n",
    "        '5' to 'd',\n",
    "        '6' to 'e',\n",
    "        '7' to 'f',\n",
    "        '8' to 'g',\n",
    "        '9' to 'h',\n",
    "        'T' to 'i',\n",
    "        'J' to 'j',\n",
    "        'Q' to 'k',\n",
    "        'K' to 'l',\n",
    "        'A' to 'm',\n",
    "        )"
   ],
   "metadata": {
    "collapsed": false
   },
   "execution_count": null
  },
  {
   "cell_type": "markdown",
   "source": [
    "# Part1\n",
    "---"
   ],
   "metadata": {
    "collapsed": false
   }
  },
  {
   "cell_type": "code",
   "outputs": [],
   "source": [
    "fun String.findType(): Types {\n",
    "    val counts = groupingBy { it }.eachCount().values\n",
    "    return when {\n",
    "        5 in counts -> Types.FIVE\n",
    "        4 in counts -> Types.FOUR\n",
    "        3 in counts && 2 in counts -> Types.FULL\n",
    "        3 in counts -> Types.THREE\n",
    "        2 in counts && 2 in (counts - 2) -> Types.TWOPAIR\n",
    "        2 in counts -> Types.ONEPAIR\n",
    "        else -> Types.HIGH\n",
    "    }\n",
    "}\n",
    "\n",
    "val part1 = input\n",
    "        .map { it.split(\" \") }.map { (cards, bid) -> Hand(cards, bid.toInt()) }\n",
    "        .sortedWith(compareBy({ it.cards.findType() }, { it.cards.map { figureMap.get(it) }.joinToString(\"\") }))\n",
    "        .mapIndexed { index, (_, bid) -> (index + 1) * bid}\n",
    "        .sum()\n",
    "part1"
   ],
   "metadata": {
    "collapsed": false
   },
   "execution_count": null
  },
  {
   "cell_type": "markdown",
   "source": [
    "# Part2\n",
    "---"
   ],
   "metadata": {
    "collapsed": false
   }
  },
  {
   "cell_type": "code",
   "outputs": [],
   "source": [
    "figureMap = mapOf(\n",
    "        'J' to 'a',\n",
    "        '2' to 'b',\n",
    "        '3' to 'c',\n",
    "        '4' to 'd',\n",
    "        '5' to 'e',\n",
    "        '6' to 'f',\n",
    "        '7' to 'g',\n",
    "        '8' to 'h',\n",
    "        '9' to 'i',\n",
    "        'T' to 'j',\n",
    "        'Q' to 'k',\n",
    "        'K' to 'l',\n",
    "        'A' to 'm',\n",
    ")\n",
    "\n",
    "fun String.findTypeWithJocker(): Types {\n",
    "    val base = this.filter { it != 'J' }.findType()\n",
    "    val jokers = this.count { it == 'J' }\n",
    "\n",
    "\n",
    "    return (1..jokers).fold(base) { type, _ ->\n",
    "        when (type) {\n",
    "            Types.FIVE -> Types.FIVE\n",
    "            Types.FOUR -> Types.FIVE\n",
    "            Types.FULL -> Types.FOUR\n",
    "            Types.THREE -> Types.FOUR\n",
    "            Types.TWOPAIR -> Types.FULL\n",
    "            Types.ONEPAIR -> Types.THREE\n",
    "            Types.HIGH -> Types.ONEPAIR\n",
    "            else -> error(\"None\")\n",
    "        }\n",
    "    }\n",
    "}\n",
    "\n",
    "val part2 = input.map { it.split(\" \") }.map { (cards, bid) -> Hand(cards, bid.toInt()) }\n",
    "        .sortedWith(compareBy({ it.cards.findTypeWithJocker() }, { it.cards.map { figureMap.get(it) }.joinToString(\"\") }))\n",
    "        .mapIndexed { index, (_, bid) -> (index + 1) * bid}\n",
    "        .sum()\n",
    "part2"
   ],
   "metadata": {
    "collapsed": false
   },
   "execution_count": null
  }
 ],
 "metadata": {
  "kernelspec": {
   "display_name": "Kotlin",
   "language": "kotlin",
   "name": "kotlin"
  },
  "language_info": {
   "name": "kotlin",
   "version": "1.9.0",
   "mimetype": "text/x-kotlin",
   "file_extension": ".kt",
   "pygments_lexer": "kotlin",
   "codemirror_mode": "text/x-kotlin",
   "nbconvert_exporter": ""
  }
 },
 "nbformat": 4,
 "nbformat_minor": 0
}
